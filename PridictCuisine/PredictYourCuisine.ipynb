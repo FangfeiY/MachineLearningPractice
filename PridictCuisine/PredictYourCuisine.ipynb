{
  "cells": [
    {
      "metadata": {},
      "cell_type": "markdown",
      "source": "# 机器学习工程师纳米学位（试学班）\n## 项目 0: 预测你的下一道世界料理\n\n\n欢迎来到机器学习的预测烹饪菜系项目！在此文件中，有些示例代码已经提供给你，但你还需要实现更多的功能来让项目成功运行。除非有明确要求，你无须修改任何已给出的代码。以**编程练习**开始的标题表示接下来的内容中有需要你必须实现的功能。每一部分都会有详细的指导，需要实现的部分也会在注释中以**TODO**标出。请仔细阅读所有的提示！\n\n- **实验任务**：给定佐料名称，预测菜品所属的菜系。\n- **实验步骤**：菜品数据载入；佐料名称预处理，并预览数据集结构；载入逻辑回归模型，并训练；结果测试并提交，查看实验分数。\n\n>**提示：**Code 和 Markdown 区域可通过 **Shift + Enter** 快捷键运行。此外，Markdown可以通过双击进入编辑模式。"
    },
    {
      "metadata": {},
      "cell_type": "markdown",
      "source": "---\n## 第一步. 下载并导入数据\n在这个项目中，你将利用[Yummly](https://www.yummly.com/)所提供的数据集来训练和测试一个模型，并对模型的性能和预测能力进行测试。通过该数据训练后的好的模型可以被用来对菜系进行预测。\n\n此项目的数据集来自[Kaggle What's Cooking 竞赛](https://www.kaggle.com/c/whats-cooking/data)。共 39774/9944 个训练和测试数据点，涵盖了中国菜、越南菜、法国菜等的信息。数据集包含以下特征：\n- 'id'：24717, 数据编号\n- 'cuisine'：\"indian\", 菜系\n- 'ingredients'：[\"tumeric\", \"vegetable stock\", ...] 此菜所包含的佐料\n\n首先你需要前往此 [菜系数据集](https://www.kaggle.com/c/whats-cooking/data) 下载(选择 **Download All** )。如果不能正常下载，请参考教室中的下载教程。然后运行下面区域的代码以载入数据集，以及一些此项目所需的 Python 库。如果成功返回数据集的大小，表示数据集已载入成功。"
    },
    {
      "metadata": {},
      "cell_type": "markdown",
      "source": "### 1.1 配置环境\n首先按照本目录中`README.md`文件中的第一部分内容，配置实验开发环境和所需库函数。"
    },
    {
      "metadata": {},
      "cell_type": "markdown",
      "source": "### 1.2 加载数据 \n其次，在下载完实验数据集后，我们将其解压至当前目录中(即：`MLND-cn-trial\\`目录下面)， 然后依次输入以下代码，加载本次实验的训练集和测试集。"
    },
    {
      "metadata": {
        "trusted": true
      },
      "cell_type": "code",
      "source": "## 请不要修改下方代码\n# 导入依赖库\nimport json\nimport codecs\nimport pandas as pd\nimport numpy as np\nimport matplotlib.pyplot as plt\n%matplotlib inline\n\n# 加载数据集\ntrain_filename='train.json'\ntrain_content = pd.read_json(codecs.open(train_filename, mode='r', encoding='utf-8'))\n\ntest_filename = 'test.json'\ntest_content = pd.read_json(codecs.open(test_filename, mode='r', encoding='utf-8'))\n    \n# 打印加载的数据集数量\nprint(\"菜名数据集一共包含 {} 训练数据 和 {} 测试样例。\\n\".format(len(train_content), len(test_content)))\nif len(train_content)==39774 and len(test_content)==9944:\n    print(\"数据成功载入！\")\nelse:\n    print(\"数据载入有问题，请检查文件路径！\")",
      "execution_count": 1,
      "outputs": [
        {
          "output_type": "stream",
          "text": "/home/nbuser/anaconda3_420/lib/python3.5/site-packages/matplotlib/font_manager.py:281: UserWarning: Matplotlib is building the font cache using fc-list. This may take a moment.\n  'Matplotlib is building the font cache using fc-list. '\n",
          "name": "stderr"
        },
        {
          "output_type": "stream",
          "text": "菜名数据集一共包含 39774 训练数据 和 9944 测试样例。\n\n数据成功载入！\n",
          "name": "stdout"
        }
      ]
    },
    {
      "metadata": {},
      "cell_type": "markdown",
      "source": "### 1.3 数据预览\n为了查看我们的数据集的分布和菜品总共的种类，我们打印出部分数据样例。"
    },
    {
      "metadata": {
        "trusted": true
      },
      "cell_type": "code",
      "source": "## 请不要修改下方代码\npd.set_option('display.max_colwidth',120)",
      "execution_count": 2,
      "outputs": []
    },
    {
      "metadata": {},
      "cell_type": "markdown",
      "source": "### 编程练习\n你需要通过`head()`函数来预览训练集`train_content`数据。（输出前5条）"
    },
    {
      "metadata": {
        "trusted": true
      },
      "cell_type": "code",
      "source": "### TODO：打印train_content中前5个数据样例以预览数据\ntrain_content.head(5)",
      "execution_count": 3,
      "outputs": [
        {
          "output_type": "execute_result",
          "execution_count": 3,
          "data": {
            "text/html": "<div>\n<table border=\"1\" class=\"dataframe\">\n  <thead>\n    <tr style=\"text-align: right;\">\n      <th></th>\n      <th>cuisine</th>\n      <th>id</th>\n      <th>ingredients</th>\n    </tr>\n  </thead>\n  <tbody>\n    <tr>\n      <th>0</th>\n      <td>greek</td>\n      <td>10259</td>\n      <td>[romaine lettuce, black olives, grape tomatoes, garlic, pepper, purple onion, seasoning, garbanzo beans, feta cheese...</td>\n    </tr>\n    <tr>\n      <th>1</th>\n      <td>southern_us</td>\n      <td>25693</td>\n      <td>[plain flour, ground pepper, salt, tomatoes, ground black pepper, thyme, eggs, green tomatoes, yellow corn meal, mil...</td>\n    </tr>\n    <tr>\n      <th>2</th>\n      <td>filipino</td>\n      <td>20130</td>\n      <td>[eggs, pepper, salt, mayonaise, cooking oil, green chilies, grilled chicken breasts, garlic powder, yellow onion, so...</td>\n    </tr>\n    <tr>\n      <th>3</th>\n      <td>indian</td>\n      <td>22213</td>\n      <td>[water, vegetable oil, wheat, salt]</td>\n    </tr>\n    <tr>\n      <th>4</th>\n      <td>indian</td>\n      <td>13162</td>\n      <td>[black pepper, shallots, cornflour, cayenne pepper, onions, garlic paste, milk, butter, salt, lemon juice, water, ch...</td>\n    </tr>\n  </tbody>\n</table>\n</div>",
            "text/plain": "       cuisine     id  \\\n0        greek  10259   \n1  southern_us  25693   \n2     filipino  20130   \n3       indian  22213   \n4       indian  13162   \n\n                                                                                                               ingredients  \n0  [romaine lettuce, black olives, grape tomatoes, garlic, pepper, purple onion, seasoning, garbanzo beans, feta cheese...  \n1  [plain flour, ground pepper, salt, tomatoes, ground black pepper, thyme, eggs, green tomatoes, yellow corn meal, mil...  \n2  [eggs, pepper, salt, mayonaise, cooking oil, green chilies, grilled chicken breasts, garlic powder, yellow onion, so...  \n3                                                                                      [water, vegetable oil, wheat, salt]  \n4  [black pepper, shallots, cornflour, cayenne pepper, onions, garlic paste, milk, butter, salt, lemon juice, water, ch...  "
          },
          "metadata": {}
        }
      ]
    },
    {
      "metadata": {
        "trusted": true
      },
      "cell_type": "code",
      "source": "## 请不要修改下方代码\n## 查看总共菜品分类\ncategories=np.unique(train_content['cuisine'])\nprint(\"一共包含 {} 种菜品，分别是:\\n{}\".format(len(categories),categories))",
      "execution_count": 4,
      "outputs": [
        {
          "output_type": "stream",
          "text": "一共包含 20 种菜品，分别是:\n['brazilian' 'british' 'cajun_creole' 'chinese' 'filipino' 'french'\n 'greek' 'indian' 'irish' 'italian' 'jamaican' 'japanese' 'korean'\n 'mexican' 'moroccan' 'russian' 'southern_us' 'spanish' 'thai'\n 'vietnamese']\n",
          "name": "stdout"
        }
      ]
    },
    {
      "metadata": {},
      "cell_type": "markdown",
      "source": "---\n## 第二步. 分析数据\n在项目的第二个部分，你会对菜肴数据进行初步的观察并给出你的分析。通过对数据的探索来熟悉数据可以让你更好地理解和解释你的结果。\n\n由于这个项目的最终目标是建立一个预测世界菜系的模型，我们需要将数据集分为**特征(Features)**和**目标变量(Target Variables)**。\n- **特征**: `'ingredients'`，给我们提供了每个菜品所包含的佐料名称。\n- **目标变量**：` 'cuisine'`，是我们希望预测的菜系分类。\n\n他们分别被存在 `train_ingredients` 和 `train_targets` 两个变量名中。"
    },
    {
      "metadata": {},
      "cell_type": "markdown",
      "source": "### 编程练习：数据提取\n* 将`train_content`中的`ingredients`赋值到`train_integredients`\n* 将`train_content`中的`cuisine`赋值到`train_targets`"
    },
    {
      "metadata": {
        "scrolled": true,
        "trusted": true
      },
      "cell_type": "code",
      "source": "### TODO：将特征与目标变量分别赋值\ntrain_ingredients = np.asarray(train_content['ingredients'])\ntrain_targets = np.asarray(train_content['cuisine'])\n\n### TODO: 打印结果，检查是否正确赋值\nprint(\"Train ingredients are: \")\nprint(train_ingredients)\n\nprint(\"Train cuisines are: \")\nprint(train_targets)",
      "execution_count": 5,
      "outputs": [
        {
          "output_type": "stream",
          "text": "Train ingredients are: \n[list(['romaine lettuce', 'black olives', 'grape tomatoes', 'garlic', 'pepper', 'purple onion', 'seasoning', 'garbanzo beans', 'feta cheese crumbles'])\n list(['plain flour', 'ground pepper', 'salt', 'tomatoes', 'ground black pepper', 'thyme', 'eggs', 'green tomatoes', 'yellow corn meal', 'milk', 'vegetable oil'])\n list(['eggs', 'pepper', 'salt', 'mayonaise', 'cooking oil', 'green chilies', 'grilled chicken breasts', 'garlic powder', 'yellow onion', 'soy sauce', 'butter', 'chicken livers'])\n ...\n list(['eggs', 'citrus fruit', 'raisins', 'sourdough starter', 'flour', 'hot tea', 'sugar', 'ground nutmeg', 'salt', 'ground cinnamon', 'milk', 'butter'])\n list(['boneless chicken skinless thigh', 'minced garlic', 'steamed white rice', 'baking powder', 'corn starch', 'dark soy sauce', 'kosher salt', 'peanuts', 'flour', 'scallions', 'Chinese rice vinegar', 'vodka', 'fresh ginger', 'egg whites', 'broccoli', 'toasted sesame seeds', 'sugar', 'store bought low sodium chicken stock', 'baking soda', 'Shaoxing wine', 'oil'])\n list(['green chile', 'jalapeno chilies', 'onions', 'ground black pepper', 'salt', 'chopped cilantro fresh', 'green bell pepper', 'garlic', 'white sugar', 'roma tomatoes', 'celery', 'dried oregano'])]\nTrain cuisines are: \n['greek' 'southern_us' 'filipino' ... 'irish' 'chinese' 'mexican']\n",
          "name": "stdout"
        }
      ]
    },
    {
      "metadata": {},
      "cell_type": "markdown",
      "source": "### 编程练习：基础统计运算\n你的第一个编程练习是计算有关菜系佐料的统计数据。我们已为你导入了 `numpy`，你需要使用这个库来执行必要的计算。这些统计数据对于分析模型的预测结果非常重要的。\n在下面的代码中，你要做的是：\n- 使用最频繁的佐料前10分别有哪些？\n- 意大利菜中最常见的10个佐料有哪些？"
    },
    {
      "metadata": {
        "trusted": true
      },
      "cell_type": "code",
      "source": "## TODO: 统计佐料出现次数，并赋值到sum_ingredients字典中\noverall_ingredients = []\nfor ingredient_list in train_ingredients:\n    for ingredient in ingredient_list:\n        overall_ingredients.append(ingredient)\nunique_ingredients, count_ingredients = np.unique(overall_ingredients, return_counts=True)\nsum_ingredients = dict(zip(unique_ingredients, count_ingredients))\n\n## 使用最频繁的佐料前10\nsorted_ingredients = sorted(sum_ingredients.items(), key=lambda kv:kv[1], reverse=True)\nfor i in range(10):\n    print(sorted_ingredients[i])\n    ",
      "execution_count": 6,
      "outputs": [
        {
          "output_type": "stream",
          "text": "('salt', 18049)\n('olive oil', 7972)\n('onions', 7972)\n('water', 7457)\n('garlic', 7380)\n('sugar', 6434)\n('garlic cloves', 6237)\n('butter', 4848)\n('ground black pepper', 4785)\n('all-purpose flour', 4632)\n",
          "name": "stdout"
        }
      ]
    },
    {
      "metadata": {
        "trusted": true
      },
      "cell_type": "code",
      "source": "## 请不要修改下方代码\n# Finally, plot the 10 most used ingredients\nplt.style.use(u'ggplot')\nfig = pd.DataFrame(sum_ingredients, index=[0]).transpose()[0].sort_values(ascending=False, inplace=False)[:10].plot(kind='barh')\nfig.invert_yaxis()\nfig = fig.get_figure()\nfig.tight_layout()\nfig.show()",
      "execution_count": 10,
      "outputs": [
        {
          "output_type": "stream",
          "text": "/home/nbuser/anaconda3_420/lib/python3.5/site-packages/matplotlib/figure.py:418: UserWarning: matplotlib is currently using a non-GUI backend, so cannot show the figure\n  \"matplotlib is currently using a non-GUI backend, \"\n",
          "name": "stderr"
        },
        {
          "output_type": "display_data",
          "data": {
            "image/png": "[encoded data removed]",
            "text/plain": "<matplotlib.figure.Figure at 0x7f83ac592400>"
          },
          "metadata": {}
        }
      ]
    },
    {
      "metadata": {
        "trusted": true
      },
      "cell_type": "code",
      "source": "## TODO: 统计意大利菜系中佐料出现次数，并赋值到italian_ingredients字典中\ncuisine_ingre_list = zip(train_targets, train_ingredients)\n\nit_overall_ingre = []\nfor cuisine_ingredient in cuisine_ingre_list:\n    if(cuisine_ingredient[0] == \"italian\"): # first element in the cuisine_ingredient tuple\n        for ingredient in cuisine_ingredient[1]: # second element in the cuisine_ingredient tuple: the ingredient list\n            it_overall_ingre.append(ingredient)\n\nit_unique_ingre, it_count_ingre = np.unique(it_overall_ingre, return_counts=True)\nitalian_ingredients = dict(zip(it_unique_ingre, it_count_ingre))\n\n## 意大利菜中最常见的10个佐料\nsorted_it_ingre = sorted(italian_ingredients.items(), key=lambda kv:kv[1], reverse=True)\nfor i in range(10):\n    print(sorted_it_ingre[i])\n        ",
      "execution_count": 7,
      "outputs": [
        {
          "output_type": "stream",
          "text": "('salt', 3454)\n('olive oil', 3111)\n('garlic cloves', 1619)\n('grated parmesan cheese', 1580)\n('garlic', 1471)\n('ground black pepper', 1444)\n('extra-virgin olive oil', 1362)\n('onions', 1240)\n('water', 1052)\n('butter', 1030)\n",
          "name": "stdout"
        }
      ]
    },
    {
      "metadata": {
        "trusted": true
      },
      "cell_type": "code",
      "source": "## 请不要修改下方代码\n# Finally, plot the 10 most used ingredients\nfig = pd.DataFrame(italian_ingredients, index=[0]).transpose()[0].sort_values(ascending=False, inplace=False)[:10].plot(kind='barh')\nfig.invert_yaxis()\nfig = fig.get_figure()\nfig.tight_layout()\nfig.show()",
      "execution_count": 19,
      "outputs": [
        {
          "output_type": "stream",
          "text": "/home/nbuser/anaconda3_420/lib/python3.5/site-packages/matplotlib/figure.py:418: UserWarning: matplotlib is currently using a non-GUI backend, so cannot show the figure\n  \"matplotlib is currently using a non-GUI backend, \"\n",
          "name": "stderr"
        },
        {
          "output_type": "display_data",
          "data": {
            "image/png": "[encoded data removed]",
            "text/plain": "<matplotlib.figure.Figure at 0x7f9df41fa278>"
          },
          "metadata": {}
        }
      ]
    },
    {
      "metadata": {},
      "cell_type": "markdown",
      "source": "若想要对数据分析做更深入的了解，可以参考[数据分析师入门课程](https://cn.udacity.com/dand)或者[基于Python语言的人工智能Nano课程](https://www.udacity.com/legal/ai-programming)."
    },
    {
      "metadata": {},
      "cell_type": "markdown",
      "source": "---\n## 第三步. 建立模型\n在项目的第三步中，你需要了解必要的工具和技巧来让你的模型进行预测。用这些工具和技巧对每一个模型的表现做精确的衡量可以极大地增强你预测的信心。"
    },
    {
      "metadata": {
        "trusted": true
      },
      "cell_type": "code",
      "source": "import nltk\nnltk.download()",
      "execution_count": 12,
      "outputs": [
        {
          "output_type": "stream",
          "text": "NLTK Downloader\n---------------------------------------------------------------------------\n    d) Download   l) List    u) Update   c) Config   h) Help   q) Quit\n---------------------------------------------------------------------------\nDownloader> d\n\nDownload which package (l=list; x=cancel)?\n  Identifier> l\nPackages:\n  [ ] abc................. Australian Broadcasting Commission 2006\n  [ ] alpino.............. Alpino Dutch Treebank\n  [ ] averaged_perceptron_tagger Averaged Perceptron Tagger\n  [ ] averaged_perceptron_tagger_ru Averaged Perceptron Tagger (Russian)\n  [ ] basque_grammars..... Grammars for Basque\n  [ ] biocreative_ppi..... BioCreAtIvE (Critical Assessment of Information\n                           Extraction Systems in Biology)\n  [ ] bllip_wsj_no_aux.... BLLIP Parser: WSJ Model\n  [ ] book_grammars....... Grammars from NLTK Book\n  [ ] brown............... Brown Corpus\n  [ ] brown_tei........... Brown Corpus (TEI XML Version)\n  [ ] cess_cat............ CESS-CAT Treebank\n  [ ] cess_esp............ CESS-ESP Treebank\n  [ ] chat80.............. Chat-80 Data Files\n  [ ] city_database....... City Database\n  [ ] cmudict............. The Carnegie Mellon Pronouncing Dictionary (0.6)\n  [ ] comparative_sentences Comparative Sentence Dataset\n  [ ] comtrans............ ComTrans Corpus Sample\n  [ ] conll2000........... CONLL 2000 Chunking Corpus\n  [ ] conll2002........... CONLL 2002 Named Entity Recognition Corpus\nHit Enter to continue: corpora/wordnet\n  [ ] conll2007........... Dependency Treebanks from CoNLL 2007 (Catalan\n                           and Basque Subset)\n  [ ] crubadan............ Crubadan Corpus\n  [ ] dependency_treebank. Dependency Parsed Treebank\n  [ ] dolch............... Dolch Word List\n  [ ] europarl_raw........ Sample European Parliament Proceedings Parallel\n                           Corpus\n  [ ] floresta............ Portuguese Treebank\n  [ ] framenet_v15........ FrameNet 1.5\n  [ ] framenet_v17........ FrameNet 1.7\n  [ ] gazetteers.......... Gazeteer Lists\n  [ ] genesis............. Genesis Corpus\n  [ ] gutenberg........... Project Gutenberg Selections\n  [ ] ieer................ NIST IE-ER DATA SAMPLE\n  [ ] inaugural........... C-Span Inaugural Address Corpus\n  [ ] indian.............. Indian Language POS-Tagged Corpus\n  [ ] jeita............... JEITA Public Morphologically Tagged Corpus (in\n                           ChaSen format)\n  [ ] kimmo............... PC-KIMMO Data Files\n  [ ] knbc................ KNB Corpus (Annotated blog corpus)\n  [ ] large_grammars...... Large context-free and feature-based grammars\n                           for parser comparison\nHit Enter to continue: \n  [ ] lin_thesaurus....... Lin's Dependency Thesaurus\n  [ ] mac_morpho.......... MAC-MORPHO: Brazilian Portuguese news text with\n                           part-of-speech tags\n  [ ] machado............. Machado de Assis -- Obra Completa\n  [ ] masc_tagged......... MASC Tagged Corpus\n  [ ] maxent_ne_chunker... ACE Named Entity Chunker (Maximum entropy)\n  [ ] maxent_treebank_pos_tagger Treebank Part of Speech Tagger (Maximum entropy)\n  [ ] moses_sample........ Moses Sample Models\n  [ ] movie_reviews....... Sentiment Polarity Dataset Version 2.0\n  [ ] mte_teip5........... MULTEXT-East 1984 annotated corpus 4.0\n  [ ] mwa_ppdb............ The monolingual word aligner (Sultan et al.\n                           2015) subset of the Paraphrase Database.\n  [ ] names............... Names Corpus, Version 1.3 (1994-03-29)\n  [ ] nombank.1.0......... NomBank Corpus 1.0\n  [ ] nonbreaking_prefixes Non-Breaking Prefixes (Moses Decoder)\n  [ ] nps_chat............ NPS Chat\n  [ ] omw................. Open Multilingual Wordnet\n  [ ] opinion_lexicon..... Opinion Lexicon\n  [ ] panlex_swadesh...... PanLex Swadesh Corpora\n  [ ] paradigms........... Paradigm Corpus\n  [ ] pe08................ Cross-Framework and Cross-Domain Parser\n                           Evaluation Shared Task\nHit Enter to continue: \n  [ ] perluniprops........ perluniprops: Index of Unicode Version 7.0.0\n                           character properties in Perl\n  [ ] pil................. The Patient Information Leaflet (PIL) Corpus\n  [ ] pl196x.............. Polish language of the XX century sixties\n  [ ] porter_test......... Porter Stemmer Test Files\n  [ ] ppattach............ Prepositional Phrase Attachment Corpus\n  [ ] problem_reports..... Problem Report Corpus\n  [ ] product_reviews_1... Product Reviews (5 Products)\n  [ ] product_reviews_2... Product Reviews (9 Products)\n  [ ] propbank............ Proposition Bank Corpus 1.0\n  [ ] pros_cons........... Pros and Cons\n  [ ] ptb................. Penn Treebank\n  [ ] punkt............... Punkt Tokenizer Models\n  [ ] qc.................. Experimental Data for Question Classification\n  [ ] reuters............. The Reuters-21578 benchmark corpus, ApteMod\n                           version\n  [ ] rslp................ RSLP Stemmer (Removedor de Sufixos da Lingua\n                           Portuguesa)\n  [ ] rte................. PASCAL RTE Challenges 1, 2, and 3\n  [ ] sample_grammars..... Sample Grammars\n  [ ] semcor.............. SemCor 3.0\nHit Enter to continue: \n  [ ] senseval............ SENSEVAL 2 Corpus: Sense Tagged Text\n  [ ] sentence_polarity... Sentence Polarity Dataset v1.0\n  [ ] sentiwordnet........ SentiWordNet\n  [ ] shakespeare......... Shakespeare XML Corpus Sample\n  [ ] sinica_treebank..... Sinica Treebank Corpus Sample\n  [ ] smultron............ SMULTRON Corpus Sample\n  [ ] snowball_data....... Snowball Data\n  [ ] spanish_grammars.... Grammars for Spanish\n  [ ] state_union......... C-Span State of the Union Address Corpus\n  [ ] stopwords........... Stopwords Corpus\n  [ ] subjectivity........ Subjectivity Dataset v1.0\n  [ ] swadesh............. Swadesh Wordlists\n  [ ] switchboard......... Switchboard Corpus Sample\n  [ ] tagsets............. Help on Tagsets\n  [ ] timit............... TIMIT Corpus Sample\n  [ ] toolbox............. Toolbox Sample Files\n  [ ] treebank............ Penn Treebank Sample\n  [ ] twitter_samples..... Twitter Samples\n  [ ] udhr2............... Universal Declaration of Human Rights Corpus\n                           (Unicode Version)\n  [ ] udhr................ Universal Declaration of Human Rights Corpus\nHit Enter to continue: \n  [ ] unicode_samples..... Unicode Samples\n  [ ] universal_tagset.... Mappings to the Universal Part-of-Speech Tagset\n  [ ] universal_treebanks_v20 Universal Treebanks Version 2.0\n  [ ] vader_lexicon....... VADER Sentiment Lexicon\n  [ ] verbnet3............ VerbNet Lexicon, Version 3.3\n  [ ] verbnet............. VerbNet Lexicon, Version 2.1\n  [ ] webtext............. Web Text Corpus\n  [ ] wmt15_eval.......... Evaluation data from WMT15\n  [ ] word2vec_sample..... Word2Vec Sample\n  [ ] wordnet............. WordNet\n  [ ] wordnet_ic.......... WordNet-InfoContent\n  [ ] words............... Word Lists\n  [ ] ycoe................ York-Toronto-Helsinki Parsed Corpus of Old\n                           English Prose\n\nCollections:\n  [ ] all-corpora......... All the corpora\n  [ ] all-nltk............ All packages available on nltk_data gh-pages\n                           branch\n  [ ] all................. All packages\n  [ ] book................ Everything used in the NLTK Book\n  [ ] popular............. Popular packages\nHit Enter to continue: wordnet\n  [ ] tests............... Packages for running tests\n  [ ] third-party......... Third-party data packages\n\n([*] marks installed packages)\n\nDownload which package (l=list; x=cancel)?\n  Identifier> wordnet\n    Downloading package wordnet to /home/nbuser/nltk_data...\n      Unzipping corpora/wordnet.zip.\n\n---------------------------------------------------------------------------\n    d) Download   l) List    u) Update   c) Config   h) Help   q) Quit\n---------------------------------------------------------------------------\nDownloader> q\n",
          "name": "stdout"
        },
        {
          "output_type": "execute_result",
          "execution_count": 12,
          "data": {
            "text/plain": "True"
          },
          "metadata": {}
        }
      ]
    },
    {
      "metadata": {},
      "cell_type": "markdown",
      "source": "### 3.1 单词清洗\n由于菜品包含的佐料众多，同一种佐料也可能有单复数、时态等变化，为了去除这类差异，我们考虑将**ingredients** 进行过滤"
    },
    {
      "metadata": {
        "trusted": true
      },
      "cell_type": "code",
      "source": "## 请不要修改下方代码\nimport re\nfrom nltk.stem import WordNetLemmatizer\nimport numpy as np\n\ndef text_clean(ingredients):\n    #去除单词的标点符号，只保留 a..z A...Z的单词字符\n    ingredients= np.array(ingredients).tolist()\n    print(\"菜品佐料：\\n{}\".format(ingredients[9]))\n    ingredients=[[re.sub('[^A-Za-z]', ' ', word) for word in component]for component in ingredients]\n    print(\"去除标点符号之后的结果：\\n{}\".format(ingredients[9]))\n\n    # 去除单词的单复数，时态，只保留单词的词干\n    lemma=WordNetLemmatizer()\n    ingredients=[\" \".join([ \" \".join([lemma.lemmatize(w) for w in words.split(\" \")]) for words in component])  for component in ingredients]\n    print(\"去除时态和单复数之后的结果：\\n{}\".format(ingredients[9]))\n    return ingredients\n\nprint(\"\\n处理训练集...\")\ntrain_ingredients = text_clean(train_content['ingredients'])\nprint(\"\\n处理测试集...\")\ntest_ingredients = text_clean(test_content['ingredients'])\n",
      "execution_count": 13,
      "outputs": [
        {
          "output_type": "stream",
          "text": "\n处理训练集...\n菜品佐料：\n['chopped tomatoes', 'fresh basil', 'garlic', 'extra-virgin olive oil', 'kosher salt', 'flat leaf parsley']\n去除标点符号之后的结果：\n['chopped tomatoes', 'fresh basil', 'garlic', 'extra virgin olive oil', 'kosher salt', 'flat leaf parsley']\n去除时态和单复数之后的结果：\nchopped tomato fresh basil garlic extra virgin olive oil kosher salt flat leaf parsley\n\n处理测试集...\n菜品佐料：\n['eggs', 'cherries', 'dates', 'dark muscovado sugar', 'ground cinnamon', 'mixed spice', 'cake', 'vanilla extract', 'self raising flour', 'sultana', 'rum', 'raisins', 'prunes', 'glace cherries', 'butter', 'port']\n去除标点符号之后的结果：\n['eggs', 'cherries', 'dates', 'dark muscovado sugar', 'ground cinnamon', 'mixed spice', 'cake', 'vanilla extract', 'self raising flour', 'sultana', 'rum', 'raisins', 'prunes', 'glace cherries', 'butter', 'port']\n去除时态和单复数之后的结果：\negg cherry date dark muscovado sugar ground cinnamon mixed spice cake vanilla extract self raising flour sultana rum raisin prune glace cherry butter port\n",
          "name": "stdout"
        }
      ]
    },
    {
      "metadata": {},
      "cell_type": "markdown",
      "source": "### 3.2 特征提取\n在该步骤中，我们将菜品的佐料转换成数值特征向量。考虑到绝大多数菜中都包含`salt, water, sugar, butter`等，采用one-hot的方法提取的向量将不能很好的对菜系作出区分。我们将考虑按照佐料出现的次数对佐料做一定的加权，即：佐料出现次数越多，佐料的区分性就越低。我们采用的特征为TF-IDF，相关介绍内容可以参考：[TF-IDF与余弦相似性的应用（一）：自动提取关键词](http://www.ruanyifeng.com/blog/2013/03/tf-idf.html)。"
    },
    {
      "metadata": {
        "trusted": true
      },
      "cell_type": "code",
      "source": "## 请不要修改下方代码\nfrom sklearn.feature_extraction.text import TfidfVectorizer\n# 将佐料转换成特征向量\n\n# 处理 训练集\nvectorizer = TfidfVectorizer(stop_words='english', ngram_range=(1, 1),\n                analyzer='word', max_df=.57, binary=False,\n                token_pattern=r\"\\w+\",sublinear_tf=False)\ntrain_tfidf = vectorizer.fit_transform(train_ingredients).todense()\n\n## 处理 测试集\ntest_tfidf = vectorizer.transform(test_ingredients)",
      "execution_count": 14,
      "outputs": []
    },
    {
      "metadata": {
        "trusted": true
      },
      "cell_type": "code",
      "source": "## 请不要修改下方代码\ntrain_targets=np.array(train_content['cuisine']).tolist()\ntrain_targets[:10]",
      "execution_count": 15,
      "outputs": [
        {
          "output_type": "execute_result",
          "execution_count": 15,
          "data": {
            "text/plain": "['greek',\n 'southern_us',\n 'filipino',\n 'indian',\n 'indian',\n 'jamaican',\n 'spanish',\n 'italian',\n 'mexican',\n 'italian']"
          },
          "metadata": {}
        }
      ]
    },
    {
      "metadata": {},
      "cell_type": "markdown",
      "source": "### 编程练习\n这里我们为了防止前面步骤中累积的错误，导致以下步骤无法正常运行。我们在此检查处理完的实验数据是否正确，请打印`train_tfidf`和`train_targets`中前五个数据。"
    },
    {
      "metadata": {
        "trusted": true
      },
      "cell_type": "code",
      "source": "# 你需要预览训练集train_tfidf,train_targets中前5条数据，试试Python的切片语法\nprint(train_tfidf[:5])\nprint(train_targets[:5])",
      "execution_count": 18,
      "outputs": [
        {
          "output_type": "stream",
          "text": "[[0. 0. 0. ... 0. 0. 0.]\n [0. 0. 0. ... 0. 0. 0.]\n [0. 0. 0. ... 0. 0. 0.]\n [0. 0. 0. ... 0. 0. 0.]\n [0. 0. 0. ... 0. 0. 0.]]\n['greek', 'southern_us', 'filipino', 'indian', 'indian']\n",
          "name": "stdout"
        }
      ]
    },
    {
      "metadata": {},
      "cell_type": "markdown",
      "source": "### 3.3 验证集划分\n为了在实验中大致估计模型的精确度我们将从原本的`train_ingredients` 划分出 `20%` 的数据用作`valid_ingredients`。"
    },
    {
      "metadata": {},
      "cell_type": "markdown",
      "source": "### 编程练习：数据分割与重排\n调用`train_test_split`函数将训练集划分为新的训练集和验证集，便于之后的模型精度观测。\n* 从`sklearn.model_selection`中导入`train_test_split`\n* 将`train_tfidf`和`train_targets`作为`train_test_split`的输入变量\n* 设置`test_size`为0.2，划分出20%的验证集，80%的数据留作新的训练集。\n* 设置`random_state`随机种子，以确保每一次运行都可以得到相同划分的结果。（随机种子固定，生成的随机序列就是确定的）"
    },
    {
      "metadata": {
        "trusted": true
      },
      "cell_type": "code",
      "source": "### TODO：划分出验证集\n\nfrom sklearn.model_selection import train_test_split\n\n#Random seed\nimport random\nrandom.seed(42)\n\nX_train , X_valid , y_train, y_valid = train_test_split(train_tfidf, train_targets, test_size=0.2, random_state=42)",
      "execution_count": 19,
      "outputs": []
    },
    {
      "metadata": {},
      "cell_type": "markdown",
      "source": "### 3.2 建立模型 \n调用 `sklearn` 中的逻辑回归模型（Logistic Regression）。"
    },
    {
      "metadata": {},
      "cell_type": "markdown",
      "source": "### 编程练习：训练模型\n* 从`sklearn.linear_model`导入`LogisticRegression`\n* 从`sklearn.model_selection`导入`GridSearchCV`, 参数自动搜索，只要把参数输进去，就能给出最优的结果和参数，这个方法适合小数据集。\n* 定义`parameters`变量：为`C`参数创造一个字典，它的值是从1至10的数组;\n* 定义`classifier`变量: 使用导入的`LogisticRegression`创建一个分类函数;\n* 定义`grid`变量: 使用导入的`GridSearchCV`创建一个网格搜索对象；将变量'classifier', 'parameters'作为参数传至这个对象构造函数中；"
    },
    {
      "metadata": {
        "trusted": true
      },
      "cell_type": "code",
      "source": "from sklearn.linear_model import LogisticRegression\nfrom sklearn.model_selection import GridSearchCV\n\n## TODO: 建立逻辑回归模型\nparameters = {'C':[1.0, 2.0, 3.0, 4.0, 5.0, 6.0, 7.0, 8.0, 9.0, 10.0]}\n\nclassifier = LogisticRegression()\n\ngrid = GridSearchCV(classifier, parameters)\n\n\n## 请不要修改下方代码\ngrid = grid.fit(X_train, y_train)",
      "execution_count": 22,
      "outputs": []
    },
    {
      "metadata": {},
      "cell_type": "markdown",
      "source": "模型训练结束之后，我们计算模型在验证集`X_valid`上预测结果，并计算模型的预测精度（与`y_valid`逐个比较）。"
    },
    {
      "metadata": {
        "trusted": true
      },
      "cell_type": "code",
      "source": "## 请不要修改下方代码\nfrom sklearn.metrics import accuracy_score ## 计算模型的准确率\n\nvalid_predict = grid.predict(X_valid)\nvalid_score=accuracy_score(y_valid,valid_predict)\n\nprint(\"验证集上的得分为：{}\".format(valid_score))",
      "execution_count": 23,
      "outputs": [
        {
          "output_type": "stream",
          "text": "验证集上的得分为：0.7898177247014456\n",
          "name": "stdout"
        }
      ]
    },
    {
      "metadata": {},
      "cell_type": "markdown",
      "source": "---\n## 第四步. 模型预测（可选）"
    },
    {
      "metadata": {},
      "cell_type": "markdown",
      "source": "### 4.1 预测测试集\n\n### 编程练习\n* 将模型`grid`对测试集`test_tfidf`做预测，然后查看预测结果。"
    },
    {
      "metadata": {
        "trusted": true
      },
      "cell_type": "code",
      "source": "### TODO：预测测试结果\nbrest_classifier = grid.best_estimator_\npredictions = brest_classifier.predict(test_tfidf)\n\n## 请不要修改下方代码\nprint(\"预测的测试集个数为：{}\".format(len(predictions)))\ntest_content['cuisine']=predictions\ntest_content.head(10)",
      "execution_count": 26,
      "outputs": [
        {
          "output_type": "stream",
          "text": "预测的测试集个数为：9944\n",
          "name": "stdout"
        },
        {
          "output_type": "execute_result",
          "execution_count": 26,
          "data": {
            "text/html": "<div>\n<table border=\"1\" class=\"dataframe\">\n  <thead>\n    <tr style=\"text-align: right;\">\n      <th></th>\n      <th>id</th>\n      <th>ingredients</th>\n      <th>cuisine</th>\n    </tr>\n  </thead>\n  <tbody>\n    <tr>\n      <th>0</th>\n      <td>18009</td>\n      <td>[baking powder, eggs, all-purpose flour, raisins, milk, white sugar]</td>\n      <td>british</td>\n    </tr>\n    <tr>\n      <th>1</th>\n      <td>28583</td>\n      <td>[sugar, egg yolks, corn starch, cream of tartar, bananas, vanilla wafers, milk, vanilla extract, toasted pecans, egg...</td>\n      <td>southern_us</td>\n    </tr>\n    <tr>\n      <th>2</th>\n      <td>41580</td>\n      <td>[sausage links, fennel bulb, fronds, olive oil, cuban peppers, onions]</td>\n      <td>italian</td>\n    </tr>\n    <tr>\n      <th>3</th>\n      <td>29752</td>\n      <td>[meat cuts, file powder, smoked sausage, okra, shrimp, andouille sausage, water, paprika, hot sauce, garlic cloves, ...</td>\n      <td>cajun_creole</td>\n    </tr>\n    <tr>\n      <th>4</th>\n      <td>35687</td>\n      <td>[ground black pepper, salt, sausage casings, leeks, parmigiano reggiano cheese, cornmeal, water, extra-virgin olive ...</td>\n      <td>italian</td>\n    </tr>\n    <tr>\n      <th>5</th>\n      <td>38527</td>\n      <td>[baking powder, all-purpose flour, peach slices, corn starch, heavy cream, lemon juice, unsalted butter, salt, white...</td>\n      <td>southern_us</td>\n    </tr>\n    <tr>\n      <th>6</th>\n      <td>19666</td>\n      <td>[grape juice, orange, white zinfandel]</td>\n      <td>french</td>\n    </tr>\n    <tr>\n      <th>7</th>\n      <td>41217</td>\n      <td>[ground ginger, white pepper, green onions, orange juice, sugar, Sriracha, vegetable oil, orange zest, chicken broth...</td>\n      <td>chinese</td>\n    </tr>\n    <tr>\n      <th>8</th>\n      <td>28753</td>\n      <td>[diced onions, taco seasoning mix, all-purpose flour, chopped cilantro fresh, ground cumin, ground cinnamon, vegetab...</td>\n      <td>mexican</td>\n    </tr>\n    <tr>\n      <th>9</th>\n      <td>22659</td>\n      <td>[eggs, cherries, dates, dark muscovado sugar, ground cinnamon, mixed spice, cake, vanilla extract, self raising flou...</td>\n      <td>british</td>\n    </tr>\n  </tbody>\n</table>\n</div>",
            "text/plain": "      id  \\\n0  18009   \n1  28583   \n2  41580   \n3  29752   \n4  35687   \n5  38527   \n6  19666   \n7  41217   \n8  28753   \n9  22659   \n\n                                                                                                               ingredients  \\\n0                                                     [baking powder, eggs, all-purpose flour, raisins, milk, white sugar]   \n1  [sugar, egg yolks, corn starch, cream of tartar, bananas, vanilla wafers, milk, vanilla extract, toasted pecans, egg...   \n2                                                   [sausage links, fennel bulb, fronds, olive oil, cuban peppers, onions]   \n3  [meat cuts, file powder, smoked sausage, okra, shrimp, andouille sausage, water, paprika, hot sauce, garlic cloves, ...   \n4  [ground black pepper, salt, sausage casings, leeks, parmigiano reggiano cheese, cornmeal, water, extra-virgin olive ...   \n5  [baking powder, all-purpose flour, peach slices, corn starch, heavy cream, lemon juice, unsalted butter, salt, white...   \n6                                                                                   [grape juice, orange, white zinfandel]   \n7  [ground ginger, white pepper, green onions, orange juice, sugar, Sriracha, vegetable oil, orange zest, chicken broth...   \n8  [diced onions, taco seasoning mix, all-purpose flour, chopped cilantro fresh, ground cumin, ground cinnamon, vegetab...   \n9  [eggs, cherries, dates, dark muscovado sugar, ground cinnamon, mixed spice, cake, vanilla extract, self raising flou...   \n\n        cuisine  \n0       british  \n1   southern_us  \n2       italian  \n3  cajun_creole  \n4       italian  \n5   southern_us  \n6        french  \n7       chinese  \n8       mexican  \n9       british  "
          },
          "metadata": {}
        }
      ]
    },
    {
      "metadata": {},
      "cell_type": "markdown",
      "source": "### 4.2 提交结果\n为了更好的测试模型的效果，同时比较与其他人的差距，我们将模型的测试集上的结果提交至 [kaggle What's Cooking?](https://www.kaggle.com/c/whats-cooking/submit) （需要提前注册kaggle账号）。\n\n**注意**：在提交作业时，请将提交排名得分截图，附在压缩包中。\n"
    },
    {
      "metadata": {
        "trusted": true
      },
      "cell_type": "code",
      "source": "## 加载结果格式\nsubmit_frame = pd.read_csv(\"sample_submission.csv\")\n## 保存结果\nresult = pd.merge(submit_frame, test_content, on=\"id\", how='left')\nresult = result.rename(index=str, columns={\"cuisine_y\": \"cuisine\"})\ntest_result_name = \"tfidf_cuisine_test.csv\"\nresult[['id','cuisine']].to_csv(test_result_name,index=False)",
      "execution_count": 27,
      "outputs": []
    },
    {
      "metadata": {},
      "cell_type": "markdown",
      "source": "将生成的 **tfidf_cuisine_test.csv** 提交至 <https://www.kaggle.com/c/whats-cooking/submit> 然后选择 **Upload Submission File**, 点击 **Make submission**即可。稍作等待，就可以看到右上角的评分结果（得分大致为：`0.78580` 左右）。"
    }
  ],
  "metadata": {
    "anaconda-cloud": {},
    "kernelspec": {
      "name": "python3",
      "display_name": "Python 3",
      "language": "python"
    },
    "language_info": {
      "mimetype": "text/x-python",
      "nbconvert_exporter": "python",
      "name": "python",
      "file_extension": ".py",
      "version": "3.5.4",
      "pygments_lexer": "ipython3",
      "codemirror_mode": {
        "version": 3,
        "name": "ipython"
      }
    }
  },
  "nbformat": 4,
  "nbformat_minor": 2
}